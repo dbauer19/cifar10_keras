{
 "cells": [
  {
   "cell_type": "code",
   "execution_count": 1,
   "metadata": {},
   "outputs": [
    {
     "name": "stderr",
     "output_type": "stream",
     "text": [
      "Using TensorFlow backend.\n"
     ]
    }
   ],
   "source": [
    "from keras.models import Sequential\n",
    "from keras.layers import Dense, Dropout, Flatten\n",
    "from keras.layers.convolutional import Conv2D, MaxPooling2D\n",
    "from keras.constraints import maxnorm\n",
    "from keras.optimizers import SGD\n",
    "from keras.datasets import cifar10\n",
    "import matplotlib.pyplot as plt\n",
    "import keras.utils as utils\n",
    "import numpy as np"
   ]
  },
  {
   "cell_type": "code",
   "execution_count": 2,
   "metadata": {},
   "outputs": [],
   "source": [
    "# 10 possible categories in the CIFAR-10 dataset\n",
    "labels= ['airplane', 'automobile', 'bird', 'cat', 'deer', 'dog', 'frog', 'horse', 'ship', 'truck']"
   ]
  },
  {
   "cell_type": "code",
   "execution_count": 3,
   "metadata": {},
   "outputs": [],
   "source": [
    "# Loading the data\n",
    "(train_images, train_labels), (test_images, test_labels) = cifar10.load_data()\n",
    "\n",
    "# Converting images to float values\n",
    "train_images = train_images.astype('float32') / 255.0\n",
    "test_images = test_images.astype('float32') / 255.0\n",
    "\n",
    "# Converting to categorical\n",
    "train_labels = utils.to_categorical(train_labels)\n",
    "test_labels = utils.to_categorical(test_labels)"
   ]
  },
  {
   "cell_type": "code",
   "execution_count": 4,
   "metadata": {},
   "outputs": [],
   "source": [
    "# Creating sequential keras model so that layers can be added in order\n",
    "model = Sequential()"
   ]
  },
  {
   "cell_type": "code",
   "execution_count": 5,
   "metadata": {},
   "outputs": [],
   "source": [
    "# Defining layers based on the features of the dataset\n",
    "\n",
    "# Add the first convolution to output a feature map\n",
    "# filters: output 32 features\n",
    "# kernel_size: 3x3 filter matrix used to calculate output features\n",
    "# input_shape: input data consists of 32x32 color images\n",
    "# activation: relu activation utilized for best results\n",
    "# kernel_constraint: normalizes max value to be 3\n",
    "# padding: 'same' ensures output features map is same size as input\n",
    "conv_layer = Conv2D(filters = 32, kernel_size = (3, 3), input_shape = (32, 32, 3), activation = 'relu', \n",
    "                    kernel_constraint = maxnorm(3), padding = 'same')\n",
    "\n",
    "# Add max pool layer to decrease image size to 16x16\n",
    "# pool_size: finds max value in each 2x2 section of input\n",
    "max_pool_layer = MaxPooling2D(pool_size = (2, 2))\n",
    "\n",
    "# Converts matrix into 1 dimensional array\n",
    "flatten = Flatten()\n",
    "\n",
    "# First dense layer to create prediction network\n",
    "# units: 512 neurons at this layer, increase for greater accuracy, decrease for faster training speed\n",
    "# activation/ kernel_constraint: see above\n",
    "dense_layer1 = Dense(units = 512, activation = 'relu', kernel_constraint = maxnorm(3))\n",
    "\n",
    "# Ignoring some neurons during training to improve reliability and decrease overfitting\n",
    "# rate: 0.5 = half of neurons dropped\n",
    "dropout_layer = Dropout(rate = 0.5)\n",
    "\n",
    "# Final dense layer to produce output for each of the categories\n",
    "# units: 10 categories \n",
    "# activation: softmax due to calculating probability of an image belonging to one of the 10 classes (not binary)\n",
    "dense_layer2 = Dense(units = 10, activation = 'softmax')"
   ]
  },
  {
   "cell_type": "code",
   "execution_count": 6,
   "metadata": {},
   "outputs": [],
   "source": [
    "# Adding all of the layers to the model\n",
    "model.add(conv_layer)\n",
    "model.add(max_pool_layer)\n",
    "model.add(flatten)\n",
    "model.add(dense_layer1)\n",
    "model.add(dropout_layer)\n",
    "model.add(dense_layer2)"
   ]
  },
  {
   "cell_type": "code",
   "execution_count": 7,
   "metadata": {},
   "outputs": [],
   "source": [
    "# Compiling the model with stochastic gradient descent\n",
    "model.compile(optimizer = SGD(lr = 0.01), loss = 'categorical_crossentropy', metrics = ['accuracy'])"
   ]
  },
  {
   "cell_type": "code",
   "execution_count": 8,
   "metadata": {
    "scrolled": true
   },
   "outputs": [
    {
     "name": "stdout",
     "output_type": "stream",
     "text": [
      "Epoch 1/50\n",
      "50000/50000 [==============================] - 87s 2ms/step - loss: 1.9209 - accuracy: 0.3094\n",
      "Epoch 2/50\n",
      "50000/50000 [==============================] - 93s 2ms/step - loss: 1.6389 - accuracy: 0.4157\n",
      "Epoch 3/50\n",
      "50000/50000 [==============================] - 91s 2ms/step - loss: 1.4660 - accuracy: 0.4752\n",
      "Epoch 4/50\n",
      "50000/50000 [==============================] - 94s 2ms/step - loss: 1.3616 - accuracy: 0.5147\n",
      "Epoch 5/50\n",
      "50000/50000 [==============================] - 98s 2ms/step - loss: 1.2871 - accuracy: 0.5444\n",
      "Epoch 6/50\n",
      "50000/50000 [==============================] - 91s 2ms/step - loss: 1.2333 - accuracy: 0.5628\n",
      "Epoch 7/50\n",
      "50000/50000 [==============================] - 86s 2ms/step - loss: 1.1892 - accuracy: 0.5792\n",
      "Epoch 8/50\n",
      "50000/50000 [==============================] - 87s 2ms/step - loss: 1.1470 - accuracy: 0.5939\n",
      "Epoch 9/50\n",
      "50000/50000 [==============================] - 87s 2ms/step - loss: 1.1111 - accuracy: 0.6083\n",
      "Epoch 10/50\n",
      "50000/50000 [==============================] - 87s 2ms/step - loss: 1.0710 - accuracy: 0.6225\n",
      "Epoch 11/50\n",
      "50000/50000 [==============================] - 88s 2ms/step - loss: 1.0378 - accuracy: 0.6334\n",
      "Epoch 12/50\n",
      "50000/50000 [==============================] - 89s 2ms/step - loss: 1.0023 - accuracy: 0.6451\n",
      "Epoch 13/50\n",
      "50000/50000 [==============================] - 88s 2ms/step - loss: 0.9732 - accuracy: 0.6593\n",
      "Epoch 14/50\n",
      "50000/50000 [==============================] - 615s 12ms/step - loss: 0.9397 - accuracy: 0.6705\n",
      "Epoch 15/50\n",
      "50000/50000 [==============================] - 82s 2ms/step - loss: 0.9093 - accuracy: 0.6822\n",
      "Epoch 16/50\n",
      "50000/50000 [==============================] - 84s 2ms/step - loss: 0.8818 - accuracy: 0.6909\n",
      "Epoch 17/50\n",
      "50000/50000 [==============================] - 92s 2ms/step - loss: 0.8495 - accuracy: 0.7033\n",
      "Epoch 18/50\n",
      "50000/50000 [==============================] - 90s 2ms/step - loss: 0.8220 - accuracy: 0.7120\n",
      "Epoch 19/50\n",
      "50000/50000 [==============================] - 92s 2ms/step - loss: 0.7936 - accuracy: 0.7208\n",
      "Epoch 20/50\n",
      "50000/50000 [==============================] - 89s 2ms/step - loss: 0.7715 - accuracy: 0.7295\n",
      "Epoch 21/50\n",
      "50000/50000 [==============================] - 85s 2ms/step - loss: 0.7417 - accuracy: 0.7406\n",
      "Epoch 22/50\n",
      "50000/50000 [==============================] - 85s 2ms/step - loss: 0.7185 - accuracy: 0.7499\n",
      "Epoch 23/50\n",
      "50000/50000 [==============================] - 85s 2ms/step - loss: 0.6908 - accuracy: 0.7597\n",
      "Epoch 24/50\n",
      "50000/50000 [==============================] - 85s 2ms/step - loss: 0.6675 - accuracy: 0.7684\n",
      "Epoch 25/50\n",
      "50000/50000 [==============================] - 85s 2ms/step - loss: 0.6415 - accuracy: 0.7765\n",
      "Epoch 26/50\n",
      "50000/50000 [==============================] - 85s 2ms/step - loss: 0.6201 - accuracy: 0.7841\n",
      "Epoch 27/50\n",
      "50000/50000 [==============================] - 85s 2ms/step - loss: 0.5990 - accuracy: 0.7917\n",
      "Epoch 28/50\n",
      "50000/50000 [==============================] - 85s 2ms/step - loss: 0.5793 - accuracy: 0.7997\n",
      "Epoch 29/50\n",
      "50000/50000 [==============================] - 83s 2ms/step - loss: 0.5550 - accuracy: 0.8072\n",
      "Epoch 30/50\n",
      "50000/50000 [==============================] - 83s 2ms/step - loss: 0.5362 - accuracy: 0.8148\n",
      "Epoch 31/50\n",
      "50000/50000 [==============================] - 83s 2ms/step - loss: 0.5126 - accuracy: 0.8214\n",
      "Epoch 32/50\n",
      "50000/50000 [==============================] - 83s 2ms/step - loss: 0.4960 - accuracy: 0.8290\n",
      "Epoch 33/50\n",
      "50000/50000 [==============================] - 84s 2ms/step - loss: 0.4767 - accuracy: 0.8343\n",
      "Epoch 34/50\n",
      "50000/50000 [==============================] - 84s 2ms/step - loss: 0.4589 - accuracy: 0.8414\n",
      "Epoch 35/50\n",
      "50000/50000 [==============================] - 85s 2ms/step - loss: 0.4438 - accuracy: 0.8453\n",
      "Epoch 36/50\n",
      "50000/50000 [==============================] - 85s 2ms/step - loss: 0.4268 - accuracy: 0.8535\n",
      "Epoch 37/50\n",
      "50000/50000 [==============================] - 85s 2ms/step - loss: 0.4126 - accuracy: 0.8583\n",
      "Epoch 38/50\n",
      "50000/50000 [==============================] - 85s 2ms/step - loss: 0.3963 - accuracy: 0.8641\n",
      "Epoch 39/50\n",
      "50000/50000 [==============================] - 86s 2ms/step - loss: 0.3789 - accuracy: 0.8698\n",
      "Epoch 40/50\n",
      "50000/50000 [==============================] - 86s 2ms/step - loss: 0.3704 - accuracy: 0.8718\n",
      "Epoch 41/50\n",
      "50000/50000 [==============================] - 86s 2ms/step - loss: 0.3524 - accuracy: 0.8791\n",
      "Epoch 42/50\n",
      "50000/50000 [==============================] - 86s 2ms/step - loss: 0.3383 - accuracy: 0.8830\n",
      "Epoch 43/50\n",
      "50000/50000 [==============================] - 86s 2ms/step - loss: 0.3308 - accuracy: 0.8858\n",
      "Epoch 44/50\n",
      "50000/50000 [==============================] - 87s 2ms/step - loss: 0.3138 - accuracy: 0.8937\n",
      "Epoch 45/50\n",
      "50000/50000 [==============================] - 87s 2ms/step - loss: 0.3033 - accuracy: 0.8972\n",
      "Epoch 46/50\n",
      "50000/50000 [==============================] - 87s 2ms/step - loss: 0.2899 - accuracy: 0.9014\n",
      "Epoch 47/50\n",
      "50000/50000 [==============================] - 88s 2ms/step - loss: 0.2790 - accuracy: 0.9056\n",
      "Epoch 48/50\n",
      "50000/50000 [==============================] - 88s 2ms/step - loss: 0.2713 - accuracy: 0.9089\n",
      "Epoch 49/50\n",
      "50000/50000 [==============================] - 88s 2ms/step - loss: 0.2618 - accuracy: 0.9120\n",
      "Epoch 50/50\n",
      "50000/50000 [==============================] - 88s 2ms/step - loss: 0.2535 - accuracy: 0.9136\n"
     ]
    },
    {
     "data": {
      "text/plain": [
       "<keras.callbacks.callbacks.History at 0x642138a50>"
      ]
     },
     "execution_count": 8,
     "metadata": {},
     "output_type": "execute_result"
    }
   ],
   "source": [
    "# Fitting the model \n",
    "# 50 epochs takes over an hour but produces good results, less epochs will decrease training time\n",
    "model.fit(x = train_images, y = train_labels, epochs = 50, batch_size = 32)"
   ]
  },
  {
   "cell_type": "code",
   "execution_count": 9,
   "metadata": {},
   "outputs": [],
   "source": [
    "# Saving the model to an h5 file\n",
    "model.save(filepath = 'Keras_Classifier.h5')"
   ]
  },
  {
   "cell_type": "code",
   "execution_count": 10,
   "metadata": {},
   "outputs": [
    {
     "name": "stdout",
     "output_type": "stream",
     "text": [
      "10000/10000 [==============================] - 2s 230us/step\n",
      "Test loss: 1.0103835701465607\n",
      "Test accuracy: 0.7009999752044678\n"
     ]
    }
   ],
   "source": [
    "# Testing out the model\n",
    "results = model.evaluate(x = test_images, y = test_labels)\n",
    "print('Test loss:', results[0])\n",
    "print('Test accuracy:', results[1])"
   ]
  },
  {
   "cell_type": "code",
   "execution_count": 14,
   "metadata": {},
   "outputs": [
    {
     "name": "stdout",
     "output_type": "stream",
     "text": [
      "Prediction: ship\n"
     ]
    }
   ],
   "source": [
    "# Making a prediction using the model\n",
    "test_image_data = np.asarray([test_images[1]])\n",
    "\n",
    "model.predict(x = test_image_data)\n",
    "\n",
    "prediction = model.predict(x = test_image_data)\n",
    "max_index = np.argmax(prediction[0]) \n",
    "print('Prediction:', labels[max_index])"
   ]
  },
  {
   "cell_type": "code",
   "execution_count": 15,
   "metadata": {},
   "outputs": [
    {
     "data": {
      "text/plain": [
       "<matplotlib.image.AxesImage at 0x697ffee90>"
      ]
     },
     "execution_count": 15,
     "metadata": {},
     "output_type": "execute_result"
    },
    {
     "data": {
      "image/png": "[encoded data removed]",
      "text/plain": [
       "<Figure size 432x288 with 1 Axes>"
      ]
     },
     "metadata": {
      "needs_background": "light"
     },
     "output_type": "display_data"
    }
   ],
   "source": [
    "plt.imshow(test_images[1])"
   ]
  },
  {
   "cell_type": "markdown",
   "metadata": {},
   "source": [
    "This prediction of a ship appears to be correct. "
   ]
  }
 ],
 "metadata": {
  "kernelspec": {
   "display_name": "Python 3",
   "language": "python",
   "name": "python3"
  },
  "language_info": {
   "codemirror_mode": {
    "name": "ipython",
    "version": 3
   },
   "file_extension": ".py",
   "mimetype": "text/x-python",
   "name": "python",
   "nbconvert_exporter": "python",
   "pygments_lexer": "ipython3",
   "version": "3.7.4"
  }
 },
 "nbformat": 4,
 "nbformat_minor": 2
}
